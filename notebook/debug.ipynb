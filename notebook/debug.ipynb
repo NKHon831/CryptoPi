{
 "cells": [
  {
   "cell_type": "markdown",
   "id": "2e5e8926-7d7f-48b1-8dd3-59bfcbaa7c4d",
   "metadata": {},
   "source": [
    "# **Debugging Notebook**"
   ]
  },
  {
   "cell_type": "code",
   "execution_count": 4,
   "id": "9261395c-600b-48b3-ad8c-a445e2021e5d",
   "metadata": {},
   "outputs": [],
   "source": [
    "import pandas as pd\n",
    "import numpy as np\n",
    "import seaborn as sns"
   ]
  },
  {
   "cell_type": "markdown",
   "id": "d972b082-974e-4ea7-b42e-316e22ac88fb",
   "metadata": {},
   "source": [
    "## Preparing the data & Label generation"
   ]
  },
  {
   "cell_type": "code",
   "execution_count": 16,
   "id": "51de5e2d-4d97-43ac-9ff5-7cadca21d9a0",
   "metadata": {},
   "outputs": [],
   "source": [
    "df = pd.read_csv(\"data/final-alpha-model-data.csv\", index_col=0, parse_dates=True)"
   ]
  },
  {
   "cell_type": "code",
   "execution_count": 17,
   "id": "4a44b877-a804-4288-a345-2a8a3fdda32f",
   "metadata": {},
   "outputs": [],
   "source": [
    "df = df.drop(columns=[\"close\", \"high\", \"low\", \"open\"])"
   ]
  },
  {
   "cell_type": "code",
   "execution_count": 18,
   "id": "e0164e29-3de9-40c1-bf19-37e72f6dbc34",
   "metadata": {},
   "outputs": [
    {
     "data": {
      "text/plain": [
       "volume                               0\n",
       "log_returns                          0\n",
       "min_10k_count                        0\n",
       "min_100_count                        0\n",
       "new_non_zero_count                   0\n",
       "count                                0\n",
       "active_more_1y_percent               0\n",
       "block_count                          0\n",
       "hash_rate_mean                       0\n",
       "inflation_rate                       0\n",
       "revenue_from_fees                    0\n",
       "balance_exchanges                    0\n",
       "transfers_volume_to_exchanges_sum    0\n",
       "net_realized_profit_loss             0\n",
       "net_unrealized_profit_loss           0\n",
       "realized_loss                        0\n",
       "realized_profit                      0\n",
       "sopr                                 0\n",
       "loss_sum                             0\n",
       "liveliness                           0\n",
       "nvt                                  0\n",
       "nvts                                 0\n",
       "reserve_risk                         0\n",
       "rhodl_ratio                          0\n",
       "stock_to_flow_deflection             0\n",
       "utxo_created_count                   0\n",
       "velocity                             0\n",
       "dtype: int64"
      ]
     },
     "execution_count": 18,
     "metadata": {},
     "output_type": "execute_result"
    }
   ],
   "source": [
    "df.isnull().sum()"
   ]
  },
  {
   "cell_type": "code",
   "execution_count": 19,
   "id": "57c86f15-03d2-4e00-afd0-a2008e73793e",
   "metadata": {},
   "outputs": [
    {
     "name": "stdout",
     "output_type": "stream",
     "text": [
      "              volume   log_returns  min_10k_count  min_100_count  \\\n",
      "count   26303.000000  26303.000000   26303.000000   26303.000000   \n",
      "mean    16161.440763      0.000031      96.952895   16052.589438   \n",
      "std     16285.187641      0.008099      10.231643     131.985041   \n",
      "min        63.932000     -0.207136      79.000000   15681.000000   \n",
      "25%      6743.777000     -0.002876      87.000000   15962.000000   \n",
      "50%     11225.281000      0.000076      98.000000   16058.000000   \n",
      "75%     19580.698000      0.003050     106.000000   16137.000000   \n",
      "max    312462.168000      0.150751     121.000000   16684.000000   \n",
      "\n",
      "       new_non_zero_count         count  active_more_1y_percent   block_count  \\\n",
      "count        26303.000000  2.630300e+04            26303.000000  26303.000000   \n",
      "mean         18048.558301  8.384399e+08                0.599975      6.047903   \n",
      "std           7319.726400  1.395178e+08                0.042823      2.507760   \n",
      "min              0.000000  5.960800e+08                0.535026      0.000000   \n",
      "25%          12792.500000  7.145218e+08                0.557651      4.000000   \n",
      "50%          16998.000000  8.485432e+08                0.595282      6.000000   \n",
      "75%          22412.000000  9.599450e+08                0.634125      8.000000   \n",
      "max          60091.000000  1.070791e+09                0.669644     21.000000   \n",
      "\n",
      "       hash_rate_mean  inflation_rate  ...          sopr      loss_sum  \\\n",
      "count    2.630300e+04    26303.000000  ...  26303.000000  2.630300e+04   \n",
      "mean     1.656370e+20        0.020090  ...      1.003386  4.633108e+06   \n",
      "std      8.572552e+19        0.006782  ...      0.025247  3.032128e+06   \n",
      "min      1.024787e+19        0.006961  ...      0.444245  0.000000e+00   \n",
      "25%      1.050992e+20        0.016778  ...      0.998042  2.044817e+06   \n",
      "50%      1.497504e+20        0.018138  ...      1.001082  4.443477e+06   \n",
      "75%      2.083469e+20        0.019746  ...      1.006143  7.294416e+06   \n",
      "max      1.775920e+21        0.047824  ...      2.031870  1.070885e+07   \n",
      "\n",
      "         liveliness           nvt          nvts  reserve_risk   rhodl_ratio  \\\n",
      "count  26303.000000  26303.000000  26303.000000  26303.000000  26303.000000   \n",
      "mean       0.611206    983.329575    652.391810      0.000064   3824.378163   \n",
      "std        0.007489    962.633882    327.309166      0.000037   3914.586509   \n",
      "min        0.595325      7.236668    125.038993      0.000017    191.510043   \n",
      "25%        0.606202    485.093816    444.500951      0.000037    942.873902   \n",
      "50%        0.613633    819.070792    593.979058      0.000052   1609.183613   \n",
      "75%        0.617483   1259.360207    877.373775      0.000084   6772.014481   \n",
      "max        0.623262  60011.713759   1692.214391      0.000181  15286.739512   \n",
      "\n",
      "       stock_to_flow_deflection  utxo_created_count      velocity  \n",
      "count              26303.000000        26303.000000  26303.000000  \n",
      "mean                   0.552794        35142.088127      0.002113  \n",
      "std                    0.288643        13015.254748      0.003102  \n",
      "min                    0.143710            0.000000      0.000000  \n",
      "25%                    0.325601        26259.500000      0.000790  \n",
      "50%                    0.511636        33724.000000      0.001216  \n",
      "75%                    0.793889        42942.500000      0.002056  \n",
      "max                    1.260404       111537.000000      0.138185  \n",
      "\n",
      "[8 rows x 27 columns]\n"
     ]
    }
   ],
   "source": [
    "print(df.describe())"
   ]
  },
  {
   "cell_type": "code",
   "execution_count": 20,
   "id": "bda77c1e-98a5-47eb-899d-fc30edd8315e",
   "metadata": {},
   "outputs": [],
   "source": [
    "Y = pd.DataFrame(list(np.where(df[\"log_returns\"] >0, 1, -1)))"
   ]
  },
  {
   "cell_type": "code",
   "execution_count": 21,
   "id": "e969d68e-687d-48dc-ace1-5e8daf31fc71",
   "metadata": {},
   "outputs": [
    {
     "data": {
      "text/html": [
       "<div>\n",
       "<style scoped>\n",
       "    .dataframe tbody tr th:only-of-type {\n",
       "        vertical-align: middle;\n",
       "    }\n",
       "\n",
       "    .dataframe tbody tr th {\n",
       "        vertical-align: top;\n",
       "    }\n",
       "\n",
       "    .dataframe thead th {\n",
       "        text-align: right;\n",
       "    }\n",
       "</style>\n",
       "<table border=\"1\" class=\"dataframe\">\n",
       "  <thead>\n",
       "    <tr style=\"text-align: right;\">\n",
       "      <th></th>\n",
       "      <th>0</th>\n",
       "    </tr>\n",
       "  </thead>\n",
       "  <tbody>\n",
       "    <tr>\n",
       "      <th>0</th>\n",
       "      <td>-1</td>\n",
       "    </tr>\n",
       "    <tr>\n",
       "      <th>1</th>\n",
       "      <td>1</td>\n",
       "    </tr>\n",
       "    <tr>\n",
       "      <th>2</th>\n",
       "      <td>-1</td>\n",
       "    </tr>\n",
       "    <tr>\n",
       "      <th>3</th>\n",
       "      <td>1</td>\n",
       "    </tr>\n",
       "    <tr>\n",
       "      <th>4</th>\n",
       "      <td>-1</td>\n",
       "    </tr>\n",
       "    <tr>\n",
       "      <th>...</th>\n",
       "      <td>...</td>\n",
       "    </tr>\n",
       "    <tr>\n",
       "      <th>26298</th>\n",
       "      <td>1</td>\n",
       "    </tr>\n",
       "    <tr>\n",
       "      <th>26299</th>\n",
       "      <td>1</td>\n",
       "    </tr>\n",
       "    <tr>\n",
       "      <th>26300</th>\n",
       "      <td>-1</td>\n",
       "    </tr>\n",
       "    <tr>\n",
       "      <th>26301</th>\n",
       "      <td>-1</td>\n",
       "    </tr>\n",
       "    <tr>\n",
       "      <th>26302</th>\n",
       "      <td>1</td>\n",
       "    </tr>\n",
       "  </tbody>\n",
       "</table>\n",
       "<p>26303 rows × 1 columns</p>\n",
       "</div>"
      ],
      "text/plain": [
       "       0\n",
       "0     -1\n",
       "1      1\n",
       "2     -1\n",
       "3      1\n",
       "4     -1\n",
       "...   ..\n",
       "26298  1\n",
       "26299  1\n",
       "26300 -1\n",
       "26301 -1\n",
       "26302  1\n",
       "\n",
       "[26303 rows x 1 columns]"
      ]
     },
     "execution_count": 21,
     "metadata": {},
     "output_type": "execute_result"
    }
   ],
   "source": [
    "Y"
   ]
  },
  {
   "cell_type": "markdown",
   "id": "bdfc1f27-5e09-436c-bdf1-e1b633c89498",
   "metadata": {},
   "source": [
    "## Check for homoegenous"
   ]
  },
  {
   "cell_type": "code",
   "execution_count": 24,
   "id": "f30da5ae-17c3-4b77-a3d9-b2a0106264b7",
   "metadata": {},
   "outputs": [],
   "source": [
    "import matplotlib.pyplot as plt\n",
    "import seaborn as sns\n",
    "\n",
    "def plot_feature_distributions(df, target_col='target'):\n",
    "    features = [col for col in df.columns if col != target_col]\n",
    "    \n",
    "    for feature in features:\n",
    "        class_0 = df[df[target_col] == -1][feature]\n",
    "        class_1 = df[df[target_col] == 1][feature]\n",
    "\n",
    "        # Skip features with no variance\n",
    "        if class_0.nunique() <= 1 or class_1.nunique() <= 1:\n",
    "            print(f\"Skipping '{feature}' due to low variance in one of the classes.\")\n",
    "            continue\n",
    "\n",
    "        plt.figure(figsize=(10, 5))\n",
    "        sns.kdeplot(data=class_0, fill=True, label='Class -1 (e.g., Malignant)', alpha=0.5)\n",
    "        sns.kdeplot(data=class_1, fill=True, label='Class 1 (e.g., Benign)', alpha=0.5)\n",
    "\n",
    "        plt.title(f'Distribution of \"{feature}\" by Class')\n",
    "        plt.xlabel(feature)\n",
    "        plt.ylabel('Density')\n",
    "        plt.legend()\n",
    "        plt.grid(True)\n",
    "        plt.tight_layout()\n",
    "        plt.show()\n"
   ]
  },
  {
   "cell_type": "code",
   "execution_count": 25,
   "id": "04b84759-130a-43cd-91e9-1d6384bf1072",
   "metadata": {},
   "outputs": [
    {
     "name": "stdout",
     "output_type": "stream",
     "text": [
      "Skipping 'volume' due to low variance in one of the classes.\n",
      "Skipping 'log_returns' due to low variance in one of the classes.\n",
      "Skipping 'min_10k_count' due to low variance in one of the classes.\n",
      "Skipping 'min_100_count' due to low variance in one of the classes.\n",
      "Skipping 'new_non_zero_count' due to low variance in one of the classes.\n",
      "Skipping 'count' due to low variance in one of the classes.\n",
      "Skipping 'active_more_1y_percent' due to low variance in one of the classes.\n",
      "Skipping 'block_count' due to low variance in one of the classes.\n",
      "Skipping 'hash_rate_mean' due to low variance in one of the classes.\n",
      "Skipping 'inflation_rate' due to low variance in one of the classes.\n",
      "Skipping 'revenue_from_fees' due to low variance in one of the classes.\n",
      "Skipping 'balance_exchanges' due to low variance in one of the classes.\n",
      "Skipping 'transfers_volume_to_exchanges_sum' due to low variance in one of the classes.\n",
      "Skipping 'net_realized_profit_loss' due to low variance in one of the classes.\n",
      "Skipping 'net_unrealized_profit_loss' due to low variance in one of the classes.\n",
      "Skipping 'realized_loss' due to low variance in one of the classes.\n",
      "Skipping 'realized_profit' due to low variance in one of the classes.\n",
      "Skipping 'sopr' due to low variance in one of the classes.\n",
      "Skipping 'loss_sum' due to low variance in one of the classes.\n",
      "Skipping 'liveliness' due to low variance in one of the classes.\n",
      "Skipping 'nvt' due to low variance in one of the classes.\n",
      "Skipping 'nvts' due to low variance in one of the classes.\n",
      "Skipping 'reserve_risk' due to low variance in one of the classes.\n",
      "Skipping 'rhodl_ratio' due to low variance in one of the classes.\n",
      "Skipping 'stock_to_flow_deflection' due to low variance in one of the classes.\n",
      "Skipping 'utxo_created_count' due to low variance in one of the classes.\n",
      "Skipping 'velocity' due to low variance in one of the classes.\n"
     ]
    }
   ],
   "source": [
    "plot_feature_distributions(df, target_col='target')"
   ]
  },
  {
   "cell_type": "code",
   "execution_count": null,
   "id": "8f9dba9c-464c-4a17-8481-f5d7830dd27d",
   "metadata": {},
   "outputs": [],
   "source": []
  }
 ],
 "metadata": {
  "kernelspec": {
   "display_name": "Python 3 (ipykernel)",
   "language": "python",
   "name": "python3"
  },
  "language_info": {
   "codemirror_mode": {
    "name": "ipython",
    "version": 3
   },
   "file_extension": ".py",
   "mimetype": "text/x-python",
   "name": "python",
   "nbconvert_exporter": "python",
   "pygments_lexer": "ipython3",
   "version": "3.12.2"
  }
 },
 "nbformat": 4,
 "nbformat_minor": 5
}
